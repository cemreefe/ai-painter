{
 "cells": [
  {
   "cell_type": "code",
   "execution_count": null,
   "metadata": {},
   "outputs": [],
   "source": [
    "import numpy as np\n",
    "import matplotlib.pyplot as plt\n",
    "import cv2"
   ]
  },
  {
   "cell_type": "code",
   "execution_count": null,
   "metadata": {},
   "outputs": [],
   "source": [
    "import random"
   ]
  },
  {
   "cell_type": "code",
   "execution_count": null,
   "metadata": {},
   "outputs": [],
   "source": [
    "from keras.applications import vgg16, inception_v3, resnet50, mobilenet\n",
    "from keras.preprocessing.image import load_img\n",
    "from keras.preprocessing.image import img_to_array\n",
    "from keras.applications.imagenet_utils import decode_predictions"
   ]
  },
  {
   "cell_type": "code",
   "execution_count": null,
   "metadata": {},
   "outputs": [],
   "source": [
    "class line:\n",
    "    \n",
    "    def __init__(self, canvas, thickness=3, color=(0,0,0)):\n",
    "        self.type = \"line\"\n",
    "        self.p1 = (random.randint(0, canvas.shape[0]), random.randint(0, canvas.shape[1]))\n",
    "        self.p2 = (random.randint(0, canvas.shape[0]), random.randint(0, canvas.shape[1]))\n",
    "        self.thickness  = thickness\n",
    "        self.color = color\n",
    "        \n",
    "    def draw_on(self, canvas):\n",
    "        return cv2.line(canvas, self.p1, self.p2, self.color, self.thickness) \n",
    "        \n",
    "class circle:\n",
    "    \n",
    "    def __init__(self, canvas, thickness=-1, color=(0,0,0), radius=-1):\n",
    "        self.type = \"circle\"\n",
    "        self.center = (random.randint(0, canvas.shape[0]), random.randint(0, canvas.shape[1]))\n",
    "        self.radius = radius\n",
    "        if self.radius==-1:\n",
    "            self.radius = random.randint(10, canvas.shape[0]//2)\n",
    "        self.thickness  = thickness\n",
    "        self.color = color\n",
    "   \n",
    "    def draw_on(self, canvas):\n",
    "        return cv2.circle(canvas, self.center, self.radius, self.color, self.thickness)\n",
    "    \n",
    "class arc:\n",
    "    \n",
    "    def __init__(self, canvas, thickness=-1, color=(0,0,0)):\n",
    "        self.type = \"circle\"\n",
    "        \n",
    "        padding = 40\n",
    "        \n",
    "        self.center      = (random.randint(padding, canvas.shape[0]-padding), random.randint(padding, canvas.shape[0]-padding))\n",
    "        self.radius1     = random.randint(20, 20+canvas.shape[0]-self.center[0])\n",
    "        self.radius2     = random.randint(20, 20+canvas.shape[0]-self.center[1])\n",
    "        self.angle       = random.randint(0, 360)\n",
    "        self.start_angle = random.randint(0, 180)\n",
    "        self.end_angle   = random.randint(self.start_angle+30, 360-30)\n",
    "        self.thickness   = thickness\n",
    "        self.color = color\n",
    "\n",
    "    def draw_on(self, canvas):\n",
    "        axes=(self.radius1, self.radius2)\n",
    "        return cv2.ellipse(canvas, self.center, axes, self.angle, \n",
    "                           self.start_angle, self.end_angle, self.color, self.thickness)\n",
    "    \n",
    "\n",
    "class tableau:\n",
    "    \n",
    "    def __init__(self, shape, color=(255,255,255)):    \n",
    "        self.canvas = np.ones((shape[0], shape[1], 3))*np.array(color)\n",
    "        \n",
    "    def display_with(self, entities):\n",
    "        temp_canvas = np.copy(self.canvas)\n",
    "        for entity in entities:\n",
    "            temp_canvas = entity.draw_on(temp_canvas) \n",
    "        end_result = temp_canvas.astype(int)\n",
    "        plt.imshow(end_result)\n",
    "        return end_result"
   ]
  },
  {
   "cell_type": "code",
   "execution_count": null,
   "metadata": {},
   "outputs": [],
   "source": [
    "#Load the VGG model\n",
    "vgg_model = vgg16.VGG16(weights='imagenet')\n",
    "\n",
    "#Load the ResNet50 model\n",
    "resnet_model = resnet50.ResNet50(weights='imagenet')\n",
    "\n",
    "#Load the MobileNet model\n",
    "mobilenet_model = mobilenet.MobileNet(weights='imagenet')"
   ]
  },
  {
   "cell_type": "code",
   "execution_count": null,
   "metadata": {},
   "outputs": [],
   "source": [
    "def predict(image, model=vgg_model):\n",
    "    \n",
    "    if model.name == \"resnet50\" or model.name == \"mobilenet_1.00_224\":\n",
    "        # prepare the image for the VGG model\n",
    "        processed_image = image.copy()\n",
    "\n",
    "    elif model.name == \"vgg16\":\n",
    "        \n",
    "        # prepare the image for the VGG model\n",
    "        processed_image = vgg16.preprocess_input(image.copy())\n",
    "        #processed_image = image_batch.copy()\n",
    "\n",
    "    # get the predicted probabilities for each class\n",
    "    predictions = model.predict(image)\n",
    "    # print predictions\n",
    "    \n",
    "    labels = decode_predictions(predictions, top=-1)\n",
    "    \n",
    "    return labels\n",
    "\n",
    "def get_label_value(canvas, desired_label, model=vgg_model):\n",
    "\n",
    "        labels = predict(np.expand_dims(canvas, axis=0))\n",
    "\n",
    "        labels_array = np.array(labels[0])[:,1:]\n",
    "        labels_dic   = dict(zip(labels_array[:,0], labels_array[:,1]))\n",
    "        label        = labels_dic[desired_label]\n",
    "        \n",
    "        return label"
   ]
  },
  {
   "cell_type": "code",
   "execution_count": null,
   "metadata": {},
   "outputs": [],
   "source": [
    "model = vgg_model"
   ]
  },
  {
   "cell_type": "code",
   "execution_count": null,
   "metadata": {},
   "outputs": [],
   "source": [
    "desired_label = \"rocking_chair\"\n",
    "\n",
    "j=0\n",
    "\n",
    "\n",
    "while True:\n",
    "\n",
    "    #color0 = (230,230,230)\n",
    "\n",
    "    entities = []\n",
    "    \n",
    "\n",
    "    color0 = (random.randint(0,255), random.randint(0,255), random.randint(0,255))\n",
    "    color1 = (random.randint(0,255), random.randint(0,255), random.randint(0,255))\n",
    "    color2 = (random.randint(0,255), random.randint(0,255), random.randint(0,255))\n",
    "    color3 = (random.randint(0,255), random.randint(0,255), random.randint(0,255))\n",
    "\n",
    "    #color0 = (235, 156, 90)\n",
    "    #color1 = (138, 114, 78)\n",
    "    #color2 = (236, 217, 200)\n",
    "    #color3 = (175, 74, 20)\n",
    "\n",
    "    tableau1 = tableau([224,224], color=color0)\n",
    "\n",
    "    #entities.append(arc(tableau1.canvas, thickness=100, color=np.array(color1)*.7))\n",
    "    #entities.append(arc(tableau1.canvas, thickness=100, color=np.array(color1)*.7))\n",
    "\n",
    "    entities.append(circle(tableau1.canvas, radius=30, thickness=-1, color=color3))\n",
    "\n",
    "    entities.append(arc(tableau1.canvas, thickness=30, color=color1))\n",
    "    entities.append(arc(tableau1.canvas, thickness=30, color=color1))\n",
    "    entities.append(arc(tableau1.canvas, thickness=30, color=color1))\n",
    "\n",
    "\n",
    "    labels = predict(np.expand_dims(tableau1.display_with(entities), 0), model)\n",
    "    labels_array = np.array(labels[0])[:,1:]\n",
    "    labels_dic   = dict(zip(labels_array[:,0], labels_array[:,1]))\n",
    "\n",
    "    print(\"\\nITERATION:{}\".format(j))\n",
    "    j+=1\n",
    "    \n",
    "    for i in range(5):\n",
    "        print(i+1, list(labels_dic.keys())[i], \"\\t\", labels_dic[list(labels_dic.keys())[i]])\n",
    "        \n",
    "    if list(labels_dic.keys())[0] == desired_label or labels_dic[list(labels_dic.keys())[0]]>.98:\n",
    "        break"
   ]
  },
  {
   "cell_type": "code",
   "execution_count": null,
   "metadata": {},
   "outputs": [],
   "source": [
    "# toilet_seat, nipple, "
   ]
  },
  {
   "cell_type": "code",
   "execution_count": null,
   "metadata": {},
   "outputs": [],
   "source": [
    "# rocking_chair, jigsaw_puzzle, iPod, street_sign, pinwheel"
   ]
  }
 ],
 "metadata": {
  "kernelspec": {
   "display_name": "Python 3",
   "language": "python",
   "name": "python3"
  },
  "language_info": {
   "codemirror_mode": {
    "name": "ipython",
    "version": 3
   },
   "file_extension": ".py",
   "mimetype": "text/x-python",
   "name": "python",
   "nbconvert_exporter": "python",
   "pygments_lexer": "ipython3",
   "version": "3.6.9"
  }
 },
 "nbformat": 4,
 "nbformat_minor": 2
}
