{
 "cells": [
  {
   "cell_type": "code",
   "execution_count": 5,
   "metadata": {},
   "outputs": [],
   "source": [
    "import cv2\n",
    "import numpy as np\n",
    "import PIL\n",
    "import matplotlib.pyplot as plt\n",
    "import random\n",
    "import keras\n",
    "from keras.applications import vgg16, inception_v3, resnet50, mobilenet\n",
    "from keras.preprocessing.image import load_img\n",
    "from keras.preprocessing.image import img_to_array\n",
    "from keras.applications.imagenet_utils import decode_predictions\n",
    "\n",
    "%matplotlib inline\n",
    "\n",
    "from PIL import Image"
   ]
  },
  {
   "cell_type": "code",
   "execution_count": 124,
   "metadata": {},
   "outputs": [],
   "source": [
    "class brushstroke:\n",
    "    def __init__(self, canvas, model):\n",
    "        self.origin = [random.randint(0, canvas.shape[0]), random.randint(0, canvas.shape[0])]\n",
    "        self.pixels = [self.origin]\n",
    "        self.model  = model\n",
    "        self.radius = 5\n",
    "        self.color  = np.array([0, 0, 0])\n",
    "        print(self.pixels)\n",
    "        \n",
    "    def populate(self, canvas):\n",
    "        \n",
    "        copy_canvas = canvas\n",
    "        \n",
    "        for p in self.pixels:\n",
    "            if not np.array_equal(copy_canvas[p[0], p[1]], self.color):\n",
    "                for i in range(copy_canvas.shape[0]):\n",
    "                    for j in range(copy_canvas.shape[1]):\n",
    "                        distance_squared = np.sum(np.square(p-np.array([i,j])))\n",
    "                        if distance_squared < self.radius**2:\n",
    "                            copy_canvas[i,j] = self.color\n",
    "                        \n",
    "        return copy_canvas\n",
    "    \n",
    "    def add(self, pixel):\n",
    "        self.pixels.append(pixel)\n",
    "        \n",
    "    def remove_last(self):\n",
    "        self.pixels = self.pixels[:-1]\n",
    "        \n",
    "    def add_best_pixel(self, canvas):\n",
    "        \n",
    "        base_val = get_label_value(canvas, desired_label, self.model)\n",
    "        #print(\"base val: {}\".format(base_val))\n",
    "        \n",
    "        pixel = self.pixels[-1]\n",
    "        \n",
    "        best = \"\"\n",
    "\n",
    "        try:\n",
    "            self.add([pixel[0]-1, pixel[1]])\n",
    "            val = get_label_value(self.populate(canvas), desired_label, self.model)\n",
    "            if val>base_val:\n",
    "                base_val = val\n",
    "                best = \"w\"\n",
    "            #print(\"w val: {}\".format(val))\n",
    "\n",
    "            self.remove_last()\n",
    "        except IndexError:\n",
    "            pass\n",
    "\n",
    "        try:\n",
    "            self.add([pixel[0]+1, pixel[1]])\n",
    "            val = get_label_value(self.populate(canvas), desired_label, self.model)\n",
    "            if val>base_val:\n",
    "                base_val = val\n",
    "                best = \"e\"\n",
    "            #print(\"e val: {}\".format(val))\n",
    "\n",
    "            self.remove_last()\n",
    "        except IndexError:\n",
    "            pass\n",
    "\n",
    "        try:\n",
    "            self.add([pixel[0], pixel[1]-1])\n",
    "            val = get_label_value(self.populate(canvas), desired_label, self.model)\n",
    "            if val>base_val:\n",
    "                base_val = val\n",
    "                best = \"n\"\n",
    "            #print(\"n val: {}\".format(val))\n",
    "\n",
    "            self.remove_last()\n",
    "        except IndexError:\n",
    "            pass\n",
    "\n",
    "        try:\n",
    "            self.add([pixel[0], pixel[1]+1])\n",
    "            val = get_label_value(self.populate(canvas), desired_label, self.model)\n",
    "            if val>base_val:\n",
    "                base_val = val\n",
    "                best = \"s\"\n",
    "            #print(\"s val: {}\".format(val))\n",
    "\n",
    "            self.remove_last()\n",
    "        except IndexError:\n",
    "            pass\n",
    "        \n",
    "        if best == \"\":\n",
    "            r = random.randint(0,3)\n",
    "            if r == 0:\n",
    "                best = \"w\"\n",
    "            elif r == 1:\n",
    "                best = \"e\"\n",
    "            elif r == 2:\n",
    "                best = \"n\"\n",
    "            elif r == 3:\n",
    "                best = \"s\"\n",
    "        \n",
    "        if best == \"w\":\n",
    "            self.add([pixel[0]-1, pixel[1]])\n",
    "        elif best == \"e\":\n",
    "            self.add([pixel[0]+1, pixel[1]])\n",
    "        elif best == \"n\":\n",
    "            self.add([pixel[0], pixel[1]-1])\n",
    "        elif best == \"s\":\n",
    "            self.add([pixel[0], pixel[1]+1])\n",
    "            \n",
    "        #print(self.pixels)\n",
    "        return self.populate(canvas)\n",
    "    "
   ]
  },
  {
   "cell_type": "code",
   "execution_count": 107,
   "metadata": {},
   "outputs": [],
   "source": [
    "#Load the VGG model\n",
    "vgg_model = vgg16.VGG16(weights='imagenet')\n",
    "\n",
    "#Load the ResNet50 model\n",
    "resnet_model = resnet50.ResNet50(weights='imagenet')\n",
    "\n",
    "#Load the MobileNet model\n",
    "mobilenet_model = mobilenet.MobileNet(weights='imagenet')"
   ]
  },
  {
   "cell_type": "code",
   "execution_count": 72,
   "metadata": {},
   "outputs": [],
   "source": [
    "def predict(image, model=vgg_model):\n",
    "    \n",
    "    if model.name == \"resnet50\" or model.name == \"mobilenet_1.00_224\":\n",
    "        # prepare the image for the VGG model\n",
    "        processed_image = image.copy()\n",
    "\n",
    "    elif model.name == \"vgg16\":\n",
    "        \n",
    "        # prepare the image for the VGG model\n",
    "        processed_image = vgg16.preprocess_input(image.copy())\n",
    "        #processed_image = image_batch.copy()\n",
    "\n",
    "    # get the predicted probabilities for each class\n",
    "    predictions = model.predict(image)\n",
    "    # print predictions\n",
    "    \n",
    "    labels = decode_predictions(predictions, top=-1)\n",
    "    \n",
    "    return labels\n",
    "\n",
    "def get_label_value(canvas, desired_label, model=vgg_model):\n",
    "\n",
    "        labels = predict(np.expand_dims(canvas, axis=0))\n",
    "\n",
    "        labels_array = np.array(labels[0])[:,1:]\n",
    "        labels_dic   = dict(zip(labels_array[:,0], labels_array[:,1]))\n",
    "        label        = labels_dic[desired_label]\n",
    "        \n",
    "        return label"
   ]
  },
  {
   "cell_type": "code",
   "execution_count": 67,
   "metadata": {},
   "outputs": [],
   "source": [
    "desired_label = \"scorpion\""
   ]
  },
  {
   "cell_type": "code",
   "execution_count": 28,
   "metadata": {},
   "outputs": [],
   "source": [
    "model = vgg_model"
   ]
  },
  {
   "cell_type": "code",
   "execution_count": 23,
   "metadata": {},
   "outputs": [],
   "source": [
    "load_from_file  = False"
   ]
  },
  {
   "cell_type": "code",
   "execution_count": 24,
   "metadata": {},
   "outputs": [],
   "source": [
    "x,y = 224,224"
   ]
  },
  {
   "cell_type": "code",
   "execution_count": 25,
   "metadata": {},
   "outputs": [],
   "source": [
    "if load_from_file:\n",
    "    filename    = 'media/img0.png'\n",
    "    original    = load_img(filename, target_size=(x, y))\n",
    "    numpy_image = img_to_array(original)\n",
    "    end_image   = np.expand_dims(numpy_image, 0)"
   ]
  },
  {
   "cell_type": "code",
   "execution_count": 26,
   "metadata": {},
   "outputs": [],
   "source": [
    "canvas = np.ones((x,y,3))*255"
   ]
  },
  {
   "cell_type": "code",
   "execution_count": null,
   "metadata": {},
   "outputs": [],
   "source": [
    "%%time\n",
    "canvas = np.ones((x,y,3))*255\n",
    "stroke = brushstroke(canvas, model)\n",
    "\n",
    "for i in range(100):\n",
    "    print(\"{}:\\t{}\".format(i, get_label_value(canvas, desired_label, model)))\n",
    "    canvas = stroke.add_best_pixel(canvas)"
   ]
  },
  {
   "cell_type": "code",
   "execution_count": 128,
   "metadata": {},
   "outputs": [],
   "source": [
    "end_image = np.expand_dims(canvas,0)"
   ]
  },
  {
   "cell_type": "code",
   "execution_count": 129,
   "metadata": {},
   "outputs": [],
   "source": [
    "# convert the probabilities to class labels\n",
    "# We will get top 5 predictions which is the default\n",
    "labels = predict(end_image, model)"
   ]
  },
  {
   "cell_type": "code",
   "execution_count": 130,
   "metadata": {},
   "outputs": [
    {
     "data": {
      "text/plain": [
       "<matplotlib.image.AxesImage at 0x7f87652fd748>"
      ]
     },
     "execution_count": 130,
     "metadata": {},
     "output_type": "execute_result"
    },
    {
     "data": {
      "image/png": "[encoded data removed]",
      "text/plain": [
       "<Figure size 432x288 with 1 Axes>"
      ]
     },
     "metadata": {
      "needs_background": "light"
     },
     "output_type": "display_data"
    }
   ],
   "source": [
    "plt.imshow(np.uint8(end_image[0]))"
   ]
  },
  {
   "cell_type": "code",
   "execution_count": 68,
   "metadata": {},
   "outputs": [
    {
     "data": {
      "text/plain": [
       "'0.00018293572'"
      ]
     },
     "execution_count": 68,
     "metadata": {},
     "output_type": "execute_result"
    }
   ],
   "source": [
    "labels_array = np.array(labels[0])[:,1:]\n",
    "labels_dic   = dict(zip(labels_array[:,0], labels_array[:,1]))\n",
    "labels_dic[desired_label]"
   ]
  },
  {
   "cell_type": "code",
   "execution_count": null,
   "metadata": {},
   "outputs": [],
   "source": []
  }
 ],
 "metadata": {
  "kernelspec": {
   "display_name": "Python 3",
   "language": "python",
   "name": "python3"
  },
  "language_info": {
   "codemirror_mode": {
    "name": "ipython",
    "version": 3
   },
   "file_extension": ".py",
   "mimetype": "text/x-python",
   "name": "python",
   "nbconvert_exporter": "python",
   "pygments_lexer": "ipython3",
   "version": "3.6.9"
  }
 },
 "nbformat": 4,
 "nbformat_minor": 2
}
