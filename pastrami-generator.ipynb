{
 "cells": [
  {
   "cell_type": "code",
   "execution_count": 7,
   "metadata": {},
   "outputs": [],
   "source": [
    "import numpy as np\n",
    "import matplotlib.pyplot as plt\n",
    "import cv2"
   ]
  },
  {
   "cell_type": "code",
   "execution_count": 8,
   "metadata": {},
   "outputs": [],
   "source": [
    "import random"
   ]
  },
  {
   "cell_type": "code",
   "execution_count": 1473,
   "metadata": {},
   "outputs": [],
   "source": [
    "class line:\n",
    "    \n",
    "    def __init__(self, canvas, thickness=3, color=(0,0,0)):\n",
    "        self.type = \"line\"\n",
    "        self.p1 = (random.randint(0, canvas.shape[0]), random.randint(0, canvas.shape[1]))\n",
    "        self.p2 = (random.randint(0, canvas.shape[0]), random.randint(0, canvas.shape[1]))\n",
    "        self.thickness  = thickness\n",
    "        self.color = color\n",
    "        \n",
    "    def draw_on(self, canvas):\n",
    "        return cv2.line(canvas, self.p1, self.p2, self.color, self.thickness) \n",
    "        \n",
    "class circle:\n",
    "    \n",
    "    def __init__(self, canvas, thickness=-1, color=(0,0,0), radius=-1):\n",
    "        self.type = \"circle\"\n",
    "        self.center = (random.randint(0, canvas.shape[0]), random.randint(0, canvas.shape[1]))\n",
    "        self.radius = radius\n",
    "        if self.radius==-1:\n",
    "            self.radius = random.randint(10, canvas.shape[0]//2)\n",
    "        self.thickness  = thickness\n",
    "        self.color = color\n",
    "   \n",
    "    def draw_on(self, canvas):\n",
    "        return cv2.circle(canvas, self.center, self.radius, self.color, self.thickness)\n",
    "    \n",
    "class arc:\n",
    "    \n",
    "    def __init__(self, canvas, thickness=-1, color=(0,0,0)):\n",
    "        self.type = \"circle\"\n",
    "        \n",
    "        padding = 40\n",
    "        \n",
    "        self.center      = (random.randint(padding, canvas.shape[0]-padding), random.randint(padding, canvas.shape[0]-padding))\n",
    "        self.radius1     = random.randint(20, 20+canvas.shape[0]-self.center[0])\n",
    "        self.radius2     = random.randint(20, 20+canvas.shape[0]-self.center[1])\n",
    "        self.angle       = random.randint(0, 360)\n",
    "        self.start_angle = random.randint(0, 180)\n",
    "        self.end_angle   = random.randint(self.start_angle+30, 360-30)\n",
    "        self.thickness   = thickness\n",
    "        self.color = color\n",
    "   \n",
    "    def draw_on(self, canvas):\n",
    "        axes=(self.radius1, self.radius2)\n",
    "        return cv2.ellipse(canvas, self.center, axes, self.angle, \n",
    "                           self.start_angle, self.end_angle, self.color, self.thickness)\n",
    "    \n",
    "    \n",
    "class tableau:\n",
    "    \n",
    "    def __init__(self, shape, color=(255,255,255)):    \n",
    "        self.canvas = np.ones((shape[0], shape[1], 3))*np.array(color)\n",
    "        \n",
    "    def display_with(self, entities):\n",
    "        temp_canvas = np.copy(self.canvas)\n",
    "        for entity in entities:\n",
    "            temp_canvas = entity.draw_on(temp_canvas) \n",
    "        end_result = temp_canvas.astype(int)\n",
    "        plt.imshow(end_result)\n",
    "        return end_result"
   ]
  },
  {
   "cell_type": "code",
   "execution_count": 1444,
   "metadata": {},
   "outputs": [],
   "source": [
    "tableau1 = tableau([224,224], color=(200,200,200))"
   ]
  },
  {
   "cell_type": "code",
   "execution_count": 1676,
   "metadata": {},
   "outputs": [
    {
     "data": {
      "image/png": "[encoded data removed]",
      "text/plain": [
       "<Figure size 432x288 with 1 Axes>"
      ]
     },
     "metadata": {
      "needs_background": "light"
     },
     "output_type": "display_data"
    }
   ],
   "source": [
    "entities = []\n",
    "\n",
    "#color0 = (230,230,230)\n",
    "\n",
    "color0 = (random.randint(0,255), random.randint(0,255), random.randint(0,255))\n",
    "color1 = (random.randint(0,255), random.randint(0,255), random.randint(0,255))\n",
    "color2 = (random.randint(0,255), random.randint(0,255), random.randint(0,255))\n",
    "color3 = (random.randint(0,255), random.randint(0,255), random.randint(0,255))\n",
    "\n",
    "tableau1 = tableau([224,224], color=color0)\n",
    "\n",
    "entities = []\n",
    "\n",
    "entities.append(line(tableau1.canvas, thickness=100, color=np.array(color1)*.8))\n",
    "entities.append(line(tableau1.canvas, thickness=60, color=color1))\n",
    "entities.append(line(tableau1.canvas, thickness=60, color=color1))\n",
    "entities.append(line(tableau1.canvas, thickness=60, color=color1))\n",
    "\n",
    "entities.append(line(tableau1.canvas, thickness=10, color=color2))\n",
    "entities.append(line(tableau1.canvas, thickness=10, color=color2))\n",
    "entities.append(line(tableau1.canvas, thickness=10, color=color2))\n",
    "\n",
    "entities.append(circle(tableau1.canvas, thickness=10, color=color3))\n",
    "entities.append(circle(tableau1.canvas, radius=20, thickness=10, color=color3))\n",
    "entities.append(circle(tableau1.canvas, radius=20, thickness=10, color=color3))\n",
    "\n",
    "tableau1.display_with(entities)\n",
    "pass"
   ]
  },
  {
   "cell_type": "code",
   "execution_count": 1675,
   "metadata": {},
   "outputs": [
    {
     "data": {
      "image/png": "[encoded data removed]",
      "text/plain": [
       "<Figure size 432x288 with 1 Axes>"
      ]
     },
     "metadata": {
      "needs_background": "light"
     },
     "output_type": "display_data"
    }
   ],
   "source": [
    "entities = []\n",
    "\n",
    "color0 = (random.randint(0,255), random.randint(0,255), random.randint(0,255))\n",
    "color1 = (random.randint(0,255), random.randint(0,255), random.randint(0,255))\n",
    "color2 = (random.randint(0,255), random.randint(0,255), random.randint(0,255))\n",
    "color3 = (random.randint(0,255), random.randint(0,255), random.randint(0,255))\n",
    "\n",
    "tableau1 = tableau([224,224], color=color0)\n",
    "\n",
    "entities.append(arc(tableau1.canvas, thickness=100, color=np.array(color1)*.7))\n",
    "entities.append(arc(tableau1.canvas, thickness=100, color=np.array(color1)*.7))\n",
    "\n",
    "entities.append(circle(tableau1.canvas, radius=30, thickness=-1, color=color3))\n",
    "\n",
    "entities.append(arc(tableau1.canvas, thickness=30, color=color1))\n",
    "entities.append(arc(tableau1.canvas, thickness=30, color=color1))\n",
    "entities.append(arc(tableau1.canvas, thickness=30, color=color1))\n",
    "\n",
    "\n",
    "tableau1.display_with(entities)\n",
    "pass"
   ]
  }
 ],
 "metadata": {
  "kernelspec": {
   "display_name": "Python 3",
   "language": "python",
   "name": "python3"
  },
  "language_info": {
   "codemirror_mode": {
    "name": "ipython",
    "version": 3
   },
   "file_extension": ".py",
   "mimetype": "text/x-python",
   "name": "python",
   "nbconvert_exporter": "python",
   "pygments_lexer": "ipython3",
   "version": "3.6.9"
  }
 },
 "nbformat": 4,
 "nbformat_minor": 2
}
