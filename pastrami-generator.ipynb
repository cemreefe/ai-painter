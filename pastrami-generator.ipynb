{
 "cells": [
  {
   "cell_type": "code",
   "execution_count": 2,
   "metadata": {},
   "outputs": [],
   "source": [
    "import numpy as np\n",
    "import matplotlib.pyplot as plt\n",
    "import cv2"
   ]
  },
  {
   "cell_type": "code",
   "execution_count": 3,
   "metadata": {},
   "outputs": [],
   "source": [
    "import random"
   ]
  },
  {
   "cell_type": "code",
   "execution_count": 4,
   "metadata": {},
   "outputs": [],
   "source": [
    "class entity:\n",
    "    \n",
    "    def __init__(self, canvas, radius=3, color=(0,0,0)):\n",
    "        self.p1 = (random.randint(0, canvas.shape[0]), random.randint(0, canvas.shape[1]))\n",
    "        self.p2 = (random.randint(0, canvas.shape[0]), random.randint(0, canvas.shape[1]))\n",
    "        self.radius  = radius\n",
    "        self.color = color\n",
    "    \n",
    "    \n",
    "class tableau:\n",
    "    \n",
    "    def __init__(self, shape, color=(255,255,255)):    \n",
    "        self.canvas = np.ones((shape[0], shape[1], 3))*np.array(color)\n",
    "        \n",
    "    def display_with(self, entities):\n",
    "        temp_canvas = np.copy(self.canvas)\n",
    "        for entity in entities:\n",
    "            temp_canvas = cv2.line(temp_canvas, entity.p1, entity.p2, entity.color, entity.radius) \n",
    "        end_result = temp_canvas.astype(int)\n",
    "        plt.imshow(end_result)\n",
    "        return end_result"
   ]
  },
  {
   "cell_type": "code",
   "execution_count": 5,
   "metadata": {},
   "outputs": [],
   "source": [
    "tableau1 = tableau([224,224], color=(200,200,200))"
   ]
  },
  {
   "cell_type": "code",
   "execution_count": 39,
   "metadata": {},
   "outputs": [
    {
     "data": {
      "image/png": "[encoded data removed]",
      "text/plain": [
       "<Figure size 432x288 with 1 Axes>"
      ]
     },
     "metadata": {
      "needs_background": "light"
     },
     "output_type": "display_data"
    }
   ],
   "source": [
    "entities = []\n",
    "\n",
    "#color0 = (230,230,230)\n",
    "\n",
    "color0 = (random.randint(0,255), random.randint(0,255), random.randint(0,255))\n",
    "color1 = (random.randint(0,255), random.randint(0,255), random.randint(0,255))\n",
    "color2 = (random.randint(0,255), random.randint(0,255), random.randint(0,255))\n",
    "color3 = (random.randint(0,255), random.randint(0,255), random.randint(0,255))\n",
    "\n",
    "tableau1 = tableau([224,224], color=color0)\n",
    "\n",
    "entities = []\n",
    "\n",
    "entities.append(entity(tableau1.canvas, radius=100, color=np.array(color1)*.8))\n",
    "entities.append(entity(tableau1.canvas, radius=60, color=color1))\n",
    "entities.append(entity(tableau1.canvas, radius=60, color=color1))\n",
    "entities.append(entity(tableau1.canvas, radius=80, color=color1))\n",
    "\n",
    "entities.append(entity(tableau1.canvas, radius=10, color=color2))\n",
    "entities.append(entity(tableau1.canvas, radius=10, color=color2))\n",
    "entities.append(entity(tableau1.canvas, radius=10, color=color2))\n",
    "\n",
    "entities.append(entity(tableau1.canvas, radius=10, color=color3))\n",
    "entities.append(entity(tableau1.canvas, radius=10, color=color3))\n",
    "entities.append(entity(tableau1.canvas, radius=10, color=color3))\n",
    "\n",
    "tableau1.display_with(entities)\n",
    "pass"
   ]
  },
  {
   "cell_type": "code",
   "execution_count": null,
   "metadata": {},
   "outputs": [],
   "source": []
  }
 ],
 "metadata": {
  "kernelspec": {
   "display_name": "Python 3",
   "language": "python",
   "name": "python3"
  },
  "language_info": {
   "codemirror_mode": {
    "name": "ipython",
    "version": 3
   },
   "file_extension": ".py",
   "mimetype": "text/x-python",
   "name": "python",
   "nbconvert_exporter": "python",
   "pygments_lexer": "ipython3",
   "version": "3.6.9"
  }
 },
 "nbformat": 4,
 "nbformat_minor": 2
}
