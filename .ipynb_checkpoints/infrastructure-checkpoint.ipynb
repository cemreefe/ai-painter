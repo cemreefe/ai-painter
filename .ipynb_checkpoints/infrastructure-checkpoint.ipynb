{
 "cells": [
  {
   "cell_type": "code",
   "execution_count": 109,
   "metadata": {},
   "outputs": [],
   "source": [
    "import cv2\n",
    "import numpy as np\n",
    "import PIL\n",
    "import matplotlib.pyplot as plt\n",
    "import keras\n",
    "from keras.applications import vgg16, inception_v3, resnet50, mobilenet\n",
    "from keras.preprocessing.image import load_img\n",
    "from keras.preprocessing.image import img_to_array\n",
    "from keras.applications.imagenet_utils import decode_predictions\n",
    "\n",
    "%matplotlib inline\n",
    "\n",
    "from PIL import Image"
   ]
  },
  {
   "cell_type": "code",
   "execution_count": 134,
   "metadata": {},
   "outputs": [],
   "source": [
    "#Load the VGG model\n",
    "vgg_model = vgg16.VGG16(weights='imagenet')\n",
    "\n",
    "#Load the ResNet50 model\n",
    "resnet_model = resnet50.ResNet50(weights='imagenet')\n",
    "\n",
    "#Load the MobileNet model\n",
    "mobilenet_model = mobilenet.MobileNet(weights='imagenet')\n",
    "\n",
    "def predict(image, model=vgg_model):\n",
    "    \n",
    "    if model.name == \"resnet50\" or model.name == \"mobilenet_1.00_224\":\n",
    "        # prepare the image for the VGG model\n",
    "        processed_image = image.copy()\n",
    "\n",
    "    elif model.name == \"vgg16\":\n",
    "        \n",
    "        # prepare the image for the VGG model\n",
    "        processed_image = vgg16.preprocess_input(image.copy())\n",
    "        #processed_image = image_batch.copy()\n",
    "\n",
    "    # get the predicted probabilities for each class\n",
    "    predictions = model.predict(image)\n",
    "    # print predictions\n",
    "\n",
    "    # convert the probabilities to class labels\n",
    "    # We will get top 5 predictions which is the default\n",
    "    label = decode_predictions(predictions)\n",
    "    \n",
    "    return label"
   ]
  },
  {
   "cell_type": "code",
   "execution_count": 135,
   "metadata": {},
   "outputs": [],
   "source": [
    "load_from_file  = True"
   ]
  },
  {
   "cell_type": "code",
   "execution_count": 143,
   "metadata": {},
   "outputs": [],
   "source": [
    "x,y = 224,224"
   ]
  },
  {
   "cell_type": "code",
   "execution_count": 144,
   "metadata": {},
   "outputs": [],
   "source": [
    "if load_from_file:\n",
    "    filename    = 'media/img0.png'\n",
    "    original    = load_img(filename, target_size=(x, y))\n",
    "    numpy_image = img_to_array(original)\n",
    "    end_image   = np.expand_dims(numpy_image, 0)"
   ]
  },
  {
   "cell_type": "code",
   "execution_count": 212,
   "metadata": {},
   "outputs": [],
   "source": [
    "canvas = np.ones((x,y,3))*255\n",
    "\n",
    "\n",
    "\"\"\"\n",
    "\n",
    "STUFF HERE\n",
    "\n",
    "\"\"\"\n",
    "\n",
    "\n",
    "end_image = np.expand_dims(canvas,0)"
   ]
  },
  {
   "cell_type": "code",
   "execution_count": 213,
   "metadata": {},
   "outputs": [],
   "source": [
    "# convert the probabilities to class labels\n",
    "# We will get top 5 predictions which is the default\n",
    "labels = predict(end_image, model)"
   ]
  },
  {
   "cell_type": "code",
   "execution_count": 214,
   "metadata": {},
   "outputs": [
    {
     "data": {
      "text/plain": [
       "[[('n03347037', 'fire_screen', 0.65813476),\n",
       "  ('n02840245', 'binder', 0.23684628),\n",
       "  ('n03691459', 'loudspeaker', 0.028539607),\n",
       "  ('n03530642', 'honeycomb', 0.016972505),\n",
       "  ('n04589890', 'window_screen', 0.008898688)]]"
      ]
     },
     "execution_count": 214,
     "metadata": {},
     "output_type": "execute_result"
    },
    {
     "data": {
      "image/png": "[encoded data removed]",
      "text/plain": [
       "<Figure size 432x288 with 1 Axes>"
      ]
     },
     "metadata": {
      "needs_background": "light"
     },
     "output_type": "display_data"
    }
   ],
   "source": [
    "plt.imshow(np.uint8(end_image[0]))\n",
    "labels"
   ]
  },
  {
   "cell_type": "code",
   "execution_count": null,
   "metadata": {},
   "outputs": [],
   "source": []
  }
 ],
 "metadata": {
  "kernelspec": {
   "display_name": "Python 3",
   "language": "python",
   "name": "python3"
  },
  "language_info": {
   "codemirror_mode": {
    "name": "ipython",
    "version": 3
   },
   "file_extension": ".py",
   "mimetype": "text/x-python",
   "name": "python",
   "nbconvert_exporter": "python",
   "pygments_lexer": "ipython3",
   "version": "3.6.9"
  }
 },
 "nbformat": 4,
 "nbformat_minor": 2
}
